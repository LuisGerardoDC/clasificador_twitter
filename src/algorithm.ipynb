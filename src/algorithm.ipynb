{
 "cells": [
  {
   "cell_type": "code",
   "execution_count": 4,
   "metadata": {},
   "outputs": [],
   "source": [
    "import nltk\n",
    "import pandas as pd\n",
    "import numpy as np"
   ]
  },
  {
   "cell_type": "code",
   "execution_count": 11,
   "metadata": {},
   "outputs": [
    {
     "data": {
      "text/plain": [
       "(          id  label                                              tweet\n",
       " 0          1      0  ['user', 'when', 'a', 'father', 'is', 'dysfunc...\n",
       " 1          2      0  ['user', 'user', 'thanks', 'for', 'lyft', 'cre...\n",
       " 2          3      0                      ['bihday', 'your', 'majesty']\n",
       " 3          4      0  ['model', 'i', 'love', 'u', 'take', 'with', 'u...\n",
       " 4          5      0     ['factsguide', 'society', 'now', 'motivation']\n",
       " ...      ...    ...                                                ...\n",
       " 31957  31958      0            ['ate', 'user', 'isz', 'that', 'youuu']\n",
       " 31958  31959      0  ['to', 'see', 'nina', 'turner', 'on', 'the', '...\n",
       " 31959  31960      0  ['listening', 'to', 'sad', 'songs', 'on', 'a',...\n",
       " 31960  31961      1  ['user', 'sikh', 'temple', 'vandalised', 'in',...\n",
       " 31961  31962      0   ['thank', 'you', 'user', 'for', 'you', 'follow']\n",
       " \n",
       " [31962 rows x 3 columns],\n",
       "           id                                              tweet\n",
       " 0      31963  ['studiolife', 'aislife', 'requires', 'passion...\n",
       " 1      31964  ['user', 'white', 'supremacists', 'want', 'eve...\n",
       " 2      31965  ['safe', 'ways', 'to', 'heal', 'your', 'acne',...\n",
       " 3      31966  ['is', 'the', 'hp', 'and', 'the', 'cursed', 'c...\n",
       " 4      31967  ['rd', 'bihday', 'to', 'my', 'amazing', 'hilar...\n",
       " ...      ...                                                ...\n",
       " 17192  49155  ['thought', 'factory', 'left', 'right', 'polar...\n",
       " 17193  49156  ['feeling', 'like', 'a', 'mermaid', 'hairflip'...\n",
       " 17194  49157  ['hillary', 'campaigned', 'today', 'in', 'ohio...\n",
       " 17195  49158  ['happy', 'at', 'work', 'conference', 'right',...\n",
       " 17196  49159  ['my', 'song', 'so', 'glad', 'free', 'download...\n",
       " \n",
       " [17197 rows x 2 columns])"
      ]
     },
     "execution_count": 11,
     "metadata": {},
     "output_type": "execute_result"
    }
   ],
   "source": [
    "df_train = pd.read_csv('../sources/cleaned/train.csv')\n",
    "df_test = pd.read_csv('../sources/cleaned/test.csv')\n",
    "df_train, df_test"
   ]
  },
  {
   "cell_type": "code",
   "execution_count": null,
   "metadata": {},
   "outputs": [],
   "source": []
  }
 ],
 "metadata": {
  "kernelspec": {
   "display_name": "Python 3",
   "language": "python",
   "name": "python3"
  },
  "language_info": {
   "codemirror_mode": {
    "name": "ipython",
    "version": 3
   },
   "file_extension": ".py",
   "mimetype": "text/x-python",
   "name": "python",
   "nbconvert_exporter": "python",
   "pygments_lexer": "ipython3",
   "version": "3.8.6"
  }
 },
 "nbformat": 4,
 "nbformat_minor": 4
}
